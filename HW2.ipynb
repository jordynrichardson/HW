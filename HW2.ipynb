{
  "nbformat": 4,
  "nbformat_minor": 0,
  "metadata": {
    "colab": {
      "provenance": [],
      "authorship_tag": "ABX9TyNCU6Xe8u6zwSVuwm4YvXP4",
      "include_colab_link": true
    },
    "kernelspec": {
      "name": "python3",
      "display_name": "Python 3"
    },
    "language_info": {
      "name": "python"
    }
  },
  "cells": [
    {
      "cell_type": "markdown",
      "metadata": {
        "id": "view-in-github",
        "colab_type": "text"
      },
      "source": [
        "<a href=\"https://colab.research.google.com/github/jordynrichardson/HW/blob/main/HW2.ipynb\" target=\"_parent\"><img src=\"https://colab.research.google.com/assets/colab-badge.svg\" alt=\"Open In Colab\"/></a>"
      ]
    },
    {
      "cell_type": "code",
      "execution_count": 3,
      "metadata": {
        "colab": {
          "base_uri": "https://localhost:8080/"
        },
        "id": "NbfWAAtnFgTl",
        "outputId": "da696c5e-5124-46e9-c28b-916f19250147"
      },
      "outputs": [
        {
          "output_type": "stream",
          "name": "stdout",
          "text": [
            "Normalized BP Readings: [0.0, 0.32075471698113206, 0.5849056603773585, 0.05660377358490566, 0.7924528301886793, 1.0, 0.1320754716981132, 0.6415094339622641]\n"
          ]
        }
      ],
      "source": [
        "bp_readings = [120, 137, 151, 123, 162, 173, 127, 154]\n",
        "\n",
        "def blood_pressure(bp_readings):\n",
        "  min_value=min(bp_readings)\n",
        "  max_value=max(bp_readings)\n",
        "  output_list=[]\n",
        "  for number in bp_readings:\n",
        "    normalized_value=(number - min_value) / (max_value - min_value)\n",
        "    output_list.append(normalized_value)\n",
        "  return output_list\n",
        "\n",
        "normal_bp=blood_pressure(bp_readings)\n",
        "print('Normalized BP Readings:',normal_bp)\n",
        "\n",
        "\n"
      ]
    }
  ]
}